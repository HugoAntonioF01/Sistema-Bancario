{
  "nbformat": 4,
  "nbformat_minor": 0,
  "metadata": {
    "colab": {
      "provenance": [],
      "authorship_tag": "ABX9TyOyEvrCZNsNT9ETIIEjMUr+",
      "include_colab_link": true
    },
    "kernelspec": {
      "name": "python3",
      "display_name": "Python 3"
    },
    "language_info": {
      "name": "python"
    }
  },
  "cells": [
    {
      "cell_type": "markdown",
      "metadata": {
        "id": "view-in-github",
        "colab_type": "text"
      },
      "source": [
        "<a href=\"https://colab.research.google.com/github/HugoAntonioF01/Sistema-Bancario/blob/main/Simulador_de_caixa_elet%C3%B4nico.ipynb\" target=\"_parent\"><img src=\"https://colab.research.google.com/assets/colab-badge.svg\" alt=\"Open In Colab\"/></a>"
      ]
    },
    {
      "cell_type": "code",
      "execution_count": 1,
      "metadata": {
        "colab": {
          "base_uri": "https://localhost:8080/"
        },
        "id": "G2-pJdl9ei5-",
        "outputId": "b3b75b40-f917-4d42-eff7-6f7930a75852"
      },
      "outputs": [
        {
          "output_type": "stream",
          "name": "stdout",
          "text": [
            "Digite o valor que deseja sacar: R$ 170\n",
            "Você receberá 3 notas de 50, 1 de 20, 0 de 10 e 0 de 1.\n"
          ]
        }
      ],
      "source": [
        "saque = int(input('Digite o valor que deseja sacar: R$ '))\n",
        "n50 = n20 = n10 = n1 = 0\n",
        "while True:\n",
        "    if saque >= 50:\n",
        "        saque -= 50\n",
        "        n50 += 1\n",
        "    else:\n",
        "        if saque >= 20:\n",
        "            saque -= 20\n",
        "            n20 += 1\n",
        "        else:\n",
        "            if saque >= 10:\n",
        "                saque -= 10\n",
        "                n10 += 1\n",
        "            else:\n",
        "                if saque >= 1:\n",
        "                    saque -= 1\n",
        "                    n1 += 1\n",
        "    if saque == 0:\n",
        "        break\n",
        "print(f'Você receberá {n50} notas de 50, {n20} de 20, {n10} de 10 e {n1} de 1.')"
      ]
    }
  ]
}